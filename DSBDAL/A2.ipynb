{
  "nbformat": 4,
  "nbformat_minor": 0,
  "metadata": {
    "colab": {
      "provenance": []
    },
    "kernelspec": {
      "name": "python3",
      "display_name": "Python 3"
    },
    "language_info": {
      "name": "python"
    }
  },
  "cells": [
    {
      "cell_type": "code",
      "execution_count": null,
      "metadata": {
        "id": "4Bv3uIjg_dFZ"
      },
      "outputs": [],
      "source": [
        "#import libraries\n",
        "import pandas as pd\n",
        "import numpy as np\n",
        "import missingno as ms"
      ]
    },
    {
      "cell_type": "code",
      "source": [
        "#load dataset\n",
        "data=pd.read_csv(\"https://raw.githubusercontent.com/Shreya-P7/set/main/AcademicPerformance.csv\")\n",
        "data.head()"
      ],
      "metadata": {
        "colab": {
          "base_uri": "https://localhost:8080/",
          "height": 206
        },
        "id": "cheyr9quGWV5",
        "outputId": "bba52930-a730-4304-9879-dcd7848109a6"
      },
      "execution_count": null,
      "outputs": [
        {
          "output_type": "execute_result",
          "data": {
            "text/plain": [
              "   Gender   Groups     Education Level Fee Structure Test Preparation Course  \\\n",
              "0  Female  Group B   Bachelor's Degree      Standard                    None   \n",
              "1  Female  Group C        Some College      Standard               Completed   \n",
              "2  Female  Group B     Master's Degree      Standard                    None   \n",
              "3    Male  Group A  Associate's Degree  Free/Reduced                    None   \n",
              "4    Male  Group C        Some College      Standard                    None   \n",
              "\n",
              "   WT Score  DSBDA Score  AI Score  \n",
              "0      72.0         72.0        74  \n",
              "1      69.0         90.0        88  \n",
              "2      90.0         95.0        93  \n",
              "3      47.0         57.0        44  \n",
              "4      76.0         78.0        75  "
            ],
            "text/html": [
              "\n",
              "  <div id=\"df-610bb7e4-8c48-4c15-baa0-bdcdaa5b6c7d\">\n",
              "    <div class=\"colab-df-container\">\n",
              "      <div>\n",
              "<style scoped>\n",
              "    .dataframe tbody tr th:only-of-type {\n",
              "        vertical-align: middle;\n",
              "    }\n",
              "\n",
              "    .dataframe tbody tr th {\n",
              "        vertical-align: top;\n",
              "    }\n",
              "\n",
              "    .dataframe thead th {\n",
              "        text-align: right;\n",
              "    }\n",
              "</style>\n",
              "<table border=\"1\" class=\"dataframe\">\n",
              "  <thead>\n",
              "    <tr style=\"text-align: right;\">\n",
              "      <th></th>\n",
              "      <th>Gender</th>\n",
              "      <th>Groups</th>\n",
              "      <th>Education Level</th>\n",
              "      <th>Fee Structure</th>\n",
              "      <th>Test Preparation Course</th>\n",
              "      <th>WT Score</th>\n",
              "      <th>DSBDA Score</th>\n",
              "      <th>AI Score</th>\n",
              "    </tr>\n",
              "  </thead>\n",
              "  <tbody>\n",
              "    <tr>\n",
              "      <th>0</th>\n",
              "      <td>Female</td>\n",
              "      <td>Group B</td>\n",
              "      <td>Bachelor's Degree</td>\n",
              "      <td>Standard</td>\n",
              "      <td>None</td>\n",
              "      <td>72.0</td>\n",
              "      <td>72.0</td>\n",
              "      <td>74</td>\n",
              "    </tr>\n",
              "    <tr>\n",
              "      <th>1</th>\n",
              "      <td>Female</td>\n",
              "      <td>Group C</td>\n",
              "      <td>Some College</td>\n",
              "      <td>Standard</td>\n",
              "      <td>Completed</td>\n",
              "      <td>69.0</td>\n",
              "      <td>90.0</td>\n",
              "      <td>88</td>\n",
              "    </tr>\n",
              "    <tr>\n",
              "      <th>2</th>\n",
              "      <td>Female</td>\n",
              "      <td>Group B</td>\n",
              "      <td>Master's Degree</td>\n",
              "      <td>Standard</td>\n",
              "      <td>None</td>\n",
              "      <td>90.0</td>\n",
              "      <td>95.0</td>\n",
              "      <td>93</td>\n",
              "    </tr>\n",
              "    <tr>\n",
              "      <th>3</th>\n",
              "      <td>Male</td>\n",
              "      <td>Group A</td>\n",
              "      <td>Associate's Degree</td>\n",
              "      <td>Free/Reduced</td>\n",
              "      <td>None</td>\n",
              "      <td>47.0</td>\n",
              "      <td>57.0</td>\n",
              "      <td>44</td>\n",
              "    </tr>\n",
              "    <tr>\n",
              "      <th>4</th>\n",
              "      <td>Male</td>\n",
              "      <td>Group C</td>\n",
              "      <td>Some College</td>\n",
              "      <td>Standard</td>\n",
              "      <td>None</td>\n",
              "      <td>76.0</td>\n",
              "      <td>78.0</td>\n",
              "      <td>75</td>\n",
              "    </tr>\n",
              "  </tbody>\n",
              "</table>\n",
              "</div>\n",
              "      <button class=\"colab-df-convert\" onclick=\"convertToInteractive('df-610bb7e4-8c48-4c15-baa0-bdcdaa5b6c7d')\"\n",
              "              title=\"Convert this dataframe to an interactive table.\"\n",
              "              style=\"display:none;\">\n",
              "        \n",
              "  <svg xmlns=\"http://www.w3.org/2000/svg\" height=\"24px\"viewBox=\"0 0 24 24\"\n",
              "       width=\"24px\">\n",
              "    <path d=\"M0 0h24v24H0V0z\" fill=\"none\"/>\n",
              "    <path d=\"M18.56 5.44l.94 2.06.94-2.06 2.06-.94-2.06-.94-.94-2.06-.94 2.06-2.06.94zm-11 1L8.5 8.5l.94-2.06 2.06-.94-2.06-.94L8.5 2.5l-.94 2.06-2.06.94zm10 10l.94 2.06.94-2.06 2.06-.94-2.06-.94-.94-2.06-.94 2.06-2.06.94z\"/><path d=\"M17.41 7.96l-1.37-1.37c-.4-.4-.92-.59-1.43-.59-.52 0-1.04.2-1.43.59L10.3 9.45l-7.72 7.72c-.78.78-.78 2.05 0 2.83L4 21.41c.39.39.9.59 1.41.59.51 0 1.02-.2 1.41-.59l7.78-7.78 2.81-2.81c.8-.78.8-2.07 0-2.86zM5.41 20L4 18.59l7.72-7.72 1.47 1.35L5.41 20z\"/>\n",
              "  </svg>\n",
              "      </button>\n",
              "      \n",
              "  <style>\n",
              "    .colab-df-container {\n",
              "      display:flex;\n",
              "      flex-wrap:wrap;\n",
              "      gap: 12px;\n",
              "    }\n",
              "\n",
              "    .colab-df-convert {\n",
              "      background-color: #E8F0FE;\n",
              "      border: none;\n",
              "      border-radius: 50%;\n",
              "      cursor: pointer;\n",
              "      display: none;\n",
              "      fill: #1967D2;\n",
              "      height: 32px;\n",
              "      padding: 0 0 0 0;\n",
              "      width: 32px;\n",
              "    }\n",
              "\n",
              "    .colab-df-convert:hover {\n",
              "      background-color: #E2EBFA;\n",
              "      box-shadow: 0px 1px 2px rgba(60, 64, 67, 0.3), 0px 1px 3px 1px rgba(60, 64, 67, 0.15);\n",
              "      fill: #174EA6;\n",
              "    }\n",
              "\n",
              "    [theme=dark] .colab-df-convert {\n",
              "      background-color: #3B4455;\n",
              "      fill: #D2E3FC;\n",
              "    }\n",
              "\n",
              "    [theme=dark] .colab-df-convert:hover {\n",
              "      background-color: #434B5C;\n",
              "      box-shadow: 0px 1px 3px 1px rgba(0, 0, 0, 0.15);\n",
              "      filter: drop-shadow(0px 1px 2px rgba(0, 0, 0, 0.3));\n",
              "      fill: #FFFFFF;\n",
              "    }\n",
              "  </style>\n",
              "\n",
              "      <script>\n",
              "        const buttonEl =\n",
              "          document.querySelector('#df-610bb7e4-8c48-4c15-baa0-bdcdaa5b6c7d button.colab-df-convert');\n",
              "        buttonEl.style.display =\n",
              "          google.colab.kernel.accessAllowed ? 'block' : 'none';\n",
              "\n",
              "        async function convertToInteractive(key) {\n",
              "          const element = document.querySelector('#df-610bb7e4-8c48-4c15-baa0-bdcdaa5b6c7d');\n",
              "          const dataTable =\n",
              "            await google.colab.kernel.invokeFunction('convertToInteractive',\n",
              "                                                     [key], {});\n",
              "          if (!dataTable) return;\n",
              "\n",
              "          const docLinkHtml = 'Like what you see? Visit the ' +\n",
              "            '<a target=\"_blank\" href=https://colab.research.google.com/notebooks/data_table.ipynb>data table notebook</a>'\n",
              "            + ' to learn more about interactive tables.';\n",
              "          element.innerHTML = '';\n",
              "          dataTable['output_type'] = 'display_data';\n",
              "          await google.colab.output.renderOutput(dataTable, element);\n",
              "          const docLink = document.createElement('div');\n",
              "          docLink.innerHTML = docLinkHtml;\n",
              "          element.appendChild(docLink);\n",
              "        }\n",
              "      </script>\n",
              "    </div>\n",
              "  </div>\n",
              "  "
            ]
          },
          "metadata": {},
          "execution_count": 2
        }
      ]
    },
    {
      "cell_type": "code",
      "source": [
        "data.info()"
      ],
      "metadata": {
        "colab": {
          "base_uri": "https://localhost:8080/"
        },
        "id": "lRCUbcqmGjsY",
        "outputId": "68908a5b-13e0-41db-9624-cb939473bdbd"
      },
      "execution_count": null,
      "outputs": [
        {
          "output_type": "stream",
          "name": "stdout",
          "text": [
            "<class 'pandas.core.frame.DataFrame'>\n",
            "RangeIndex: 1000 entries, 0 to 999\n",
            "Data columns (total 8 columns):\n",
            " #   Column                   Non-Null Count  Dtype  \n",
            "---  ------                   --------------  -----  \n",
            " 0   Gender                   1000 non-null   object \n",
            " 1   Groups                   1000 non-null   object \n",
            " 2   Education Level          997 non-null    object \n",
            " 3   Fee Structure            1000 non-null   object \n",
            " 4   Test Preparation Course  1000 non-null   object \n",
            " 5   WT Score                 999 non-null    float64\n",
            " 6   DSBDA Score              998 non-null    float64\n",
            " 7   AI Score                 1000 non-null   int64  \n",
            "dtypes: float64(2), int64(1), object(5)\n",
            "memory usage: 62.6+ KB\n"
          ]
        }
      ]
    },
    {
      "cell_type": "code",
      "source": [
        "data.describe(include='all')"
      ],
      "metadata": {
        "colab": {
          "base_uri": "https://localhost:8080/",
          "height": 395
        },
        "id": "7lKvQD-xGjpg",
        "outputId": "d5b381e9-0b17-4e48-fe4c-ef02b929d12e"
      },
      "execution_count": null,
      "outputs": [
        {
          "output_type": "execute_result",
          "data": {
            "text/plain": [
              "        Gender   Groups Education Level Fee Structure Test Preparation Course  \\\n",
              "count     1000     1000             997          1000                    1000   \n",
              "unique       2        5               6             2                       2   \n",
              "top     Female  Group C    Some College      Standard                    None   \n",
              "freq       518      319             226           645                     642   \n",
              "mean       NaN      NaN             NaN           NaN                     NaN   \n",
              "std        NaN      NaN             NaN           NaN                     NaN   \n",
              "min        NaN      NaN             NaN           NaN                     NaN   \n",
              "25%        NaN      NaN             NaN           NaN                     NaN   \n",
              "50%        NaN      NaN             NaN           NaN                     NaN   \n",
              "75%        NaN      NaN             NaN           NaN                     NaN   \n",
              "max        NaN      NaN             NaN           NaN                     NaN   \n",
              "\n",
              "          WT Score  DSBDA Score     AI Score  \n",
              "count   999.000000   998.000000  1000.000000  \n",
              "unique         NaN          NaN          NaN  \n",
              "top            NaN          NaN          NaN  \n",
              "freq           NaN          NaN          NaN  \n",
              "mean     66.093093    69.178357    68.054000  \n",
              "std      15.170122    14.611940    15.195657  \n",
              "min       0.000000    17.000000    10.000000  \n",
              "25%      57.000000    59.000000    57.750000  \n",
              "50%      66.000000    70.000000    69.000000  \n",
              "75%      77.000000    79.000000    79.000000  \n",
              "max     100.000000   100.000000   100.000000  "
            ],
            "text/html": [
              "\n",
              "  <div id=\"df-c56fa0c2-897b-4e96-9aff-e5081f1afe31\">\n",
              "    <div class=\"colab-df-container\">\n",
              "      <div>\n",
              "<style scoped>\n",
              "    .dataframe tbody tr th:only-of-type {\n",
              "        vertical-align: middle;\n",
              "    }\n",
              "\n",
              "    .dataframe tbody tr th {\n",
              "        vertical-align: top;\n",
              "    }\n",
              "\n",
              "    .dataframe thead th {\n",
              "        text-align: right;\n",
              "    }\n",
              "</style>\n",
              "<table border=\"1\" class=\"dataframe\">\n",
              "  <thead>\n",
              "    <tr style=\"text-align: right;\">\n",
              "      <th></th>\n",
              "      <th>Gender</th>\n",
              "      <th>Groups</th>\n",
              "      <th>Education Level</th>\n",
              "      <th>Fee Structure</th>\n",
              "      <th>Test Preparation Course</th>\n",
              "      <th>WT Score</th>\n",
              "      <th>DSBDA Score</th>\n",
              "      <th>AI Score</th>\n",
              "    </tr>\n",
              "  </thead>\n",
              "  <tbody>\n",
              "    <tr>\n",
              "      <th>count</th>\n",
              "      <td>1000</td>\n",
              "      <td>1000</td>\n",
              "      <td>997</td>\n",
              "      <td>1000</td>\n",
              "      <td>1000</td>\n",
              "      <td>999.000000</td>\n",
              "      <td>998.000000</td>\n",
              "      <td>1000.000000</td>\n",
              "    </tr>\n",
              "    <tr>\n",
              "      <th>unique</th>\n",
              "      <td>2</td>\n",
              "      <td>5</td>\n",
              "      <td>6</td>\n",
              "      <td>2</td>\n",
              "      <td>2</td>\n",
              "      <td>NaN</td>\n",
              "      <td>NaN</td>\n",
              "      <td>NaN</td>\n",
              "    </tr>\n",
              "    <tr>\n",
              "      <th>top</th>\n",
              "      <td>Female</td>\n",
              "      <td>Group C</td>\n",
              "      <td>Some College</td>\n",
              "      <td>Standard</td>\n",
              "      <td>None</td>\n",
              "      <td>NaN</td>\n",
              "      <td>NaN</td>\n",
              "      <td>NaN</td>\n",
              "    </tr>\n",
              "    <tr>\n",
              "      <th>freq</th>\n",
              "      <td>518</td>\n",
              "      <td>319</td>\n",
              "      <td>226</td>\n",
              "      <td>645</td>\n",
              "      <td>642</td>\n",
              "      <td>NaN</td>\n",
              "      <td>NaN</td>\n",
              "      <td>NaN</td>\n",
              "    </tr>\n",
              "    <tr>\n",
              "      <th>mean</th>\n",
              "      <td>NaN</td>\n",
              "      <td>NaN</td>\n",
              "      <td>NaN</td>\n",
              "      <td>NaN</td>\n",
              "      <td>NaN</td>\n",
              "      <td>66.093093</td>\n",
              "      <td>69.178357</td>\n",
              "      <td>68.054000</td>\n",
              "    </tr>\n",
              "    <tr>\n",
              "      <th>std</th>\n",
              "      <td>NaN</td>\n",
              "      <td>NaN</td>\n",
              "      <td>NaN</td>\n",
              "      <td>NaN</td>\n",
              "      <td>NaN</td>\n",
              "      <td>15.170122</td>\n",
              "      <td>14.611940</td>\n",
              "      <td>15.195657</td>\n",
              "    </tr>\n",
              "    <tr>\n",
              "      <th>min</th>\n",
              "      <td>NaN</td>\n",
              "      <td>NaN</td>\n",
              "      <td>NaN</td>\n",
              "      <td>NaN</td>\n",
              "      <td>NaN</td>\n",
              "      <td>0.000000</td>\n",
              "      <td>17.000000</td>\n",
              "      <td>10.000000</td>\n",
              "    </tr>\n",
              "    <tr>\n",
              "      <th>25%</th>\n",
              "      <td>NaN</td>\n",
              "      <td>NaN</td>\n",
              "      <td>NaN</td>\n",
              "      <td>NaN</td>\n",
              "      <td>NaN</td>\n",
              "      <td>57.000000</td>\n",
              "      <td>59.000000</td>\n",
              "      <td>57.750000</td>\n",
              "    </tr>\n",
              "    <tr>\n",
              "      <th>50%</th>\n",
              "      <td>NaN</td>\n",
              "      <td>NaN</td>\n",
              "      <td>NaN</td>\n",
              "      <td>NaN</td>\n",
              "      <td>NaN</td>\n",
              "      <td>66.000000</td>\n",
              "      <td>70.000000</td>\n",
              "      <td>69.000000</td>\n",
              "    </tr>\n",
              "    <tr>\n",
              "      <th>75%</th>\n",
              "      <td>NaN</td>\n",
              "      <td>NaN</td>\n",
              "      <td>NaN</td>\n",
              "      <td>NaN</td>\n",
              "      <td>NaN</td>\n",
              "      <td>77.000000</td>\n",
              "      <td>79.000000</td>\n",
              "      <td>79.000000</td>\n",
              "    </tr>\n",
              "    <tr>\n",
              "      <th>max</th>\n",
              "      <td>NaN</td>\n",
              "      <td>NaN</td>\n",
              "      <td>NaN</td>\n",
              "      <td>NaN</td>\n",
              "      <td>NaN</td>\n",
              "      <td>100.000000</td>\n",
              "      <td>100.000000</td>\n",
              "      <td>100.000000</td>\n",
              "    </tr>\n",
              "  </tbody>\n",
              "</table>\n",
              "</div>\n",
              "      <button class=\"colab-df-convert\" onclick=\"convertToInteractive('df-c56fa0c2-897b-4e96-9aff-e5081f1afe31')\"\n",
              "              title=\"Convert this dataframe to an interactive table.\"\n",
              "              style=\"display:none;\">\n",
              "        \n",
              "  <svg xmlns=\"http://www.w3.org/2000/svg\" height=\"24px\"viewBox=\"0 0 24 24\"\n",
              "       width=\"24px\">\n",
              "    <path d=\"M0 0h24v24H0V0z\" fill=\"none\"/>\n",
              "    <path d=\"M18.56 5.44l.94 2.06.94-2.06 2.06-.94-2.06-.94-.94-2.06-.94 2.06-2.06.94zm-11 1L8.5 8.5l.94-2.06 2.06-.94-2.06-.94L8.5 2.5l-.94 2.06-2.06.94zm10 10l.94 2.06.94-2.06 2.06-.94-2.06-.94-.94-2.06-.94 2.06-2.06.94z\"/><path d=\"M17.41 7.96l-1.37-1.37c-.4-.4-.92-.59-1.43-.59-.52 0-1.04.2-1.43.59L10.3 9.45l-7.72 7.72c-.78.78-.78 2.05 0 2.83L4 21.41c.39.39.9.59 1.41.59.51 0 1.02-.2 1.41-.59l7.78-7.78 2.81-2.81c.8-.78.8-2.07 0-2.86zM5.41 20L4 18.59l7.72-7.72 1.47 1.35L5.41 20z\"/>\n",
              "  </svg>\n",
              "      </button>\n",
              "      \n",
              "  <style>\n",
              "    .colab-df-container {\n",
              "      display:flex;\n",
              "      flex-wrap:wrap;\n",
              "      gap: 12px;\n",
              "    }\n",
              "\n",
              "    .colab-df-convert {\n",
              "      background-color: #E8F0FE;\n",
              "      border: none;\n",
              "      border-radius: 50%;\n",
              "      cursor: pointer;\n",
              "      display: none;\n",
              "      fill: #1967D2;\n",
              "      height: 32px;\n",
              "      padding: 0 0 0 0;\n",
              "      width: 32px;\n",
              "    }\n",
              "\n",
              "    .colab-df-convert:hover {\n",
              "      background-color: #E2EBFA;\n",
              "      box-shadow: 0px 1px 2px rgba(60, 64, 67, 0.3), 0px 1px 3px 1px rgba(60, 64, 67, 0.15);\n",
              "      fill: #174EA6;\n",
              "    }\n",
              "\n",
              "    [theme=dark] .colab-df-convert {\n",
              "      background-color: #3B4455;\n",
              "      fill: #D2E3FC;\n",
              "    }\n",
              "\n",
              "    [theme=dark] .colab-df-convert:hover {\n",
              "      background-color: #434B5C;\n",
              "      box-shadow: 0px 1px 3px 1px rgba(0, 0, 0, 0.15);\n",
              "      filter: drop-shadow(0px 1px 2px rgba(0, 0, 0, 0.3));\n",
              "      fill: #FFFFFF;\n",
              "    }\n",
              "  </style>\n",
              "\n",
              "      <script>\n",
              "        const buttonEl =\n",
              "          document.querySelector('#df-c56fa0c2-897b-4e96-9aff-e5081f1afe31 button.colab-df-convert');\n",
              "        buttonEl.style.display =\n",
              "          google.colab.kernel.accessAllowed ? 'block' : 'none';\n",
              "\n",
              "        async function convertToInteractive(key) {\n",
              "          const element = document.querySelector('#df-c56fa0c2-897b-4e96-9aff-e5081f1afe31');\n",
              "          const dataTable =\n",
              "            await google.colab.kernel.invokeFunction('convertToInteractive',\n",
              "                                                     [key], {});\n",
              "          if (!dataTable) return;\n",
              "\n",
              "          const docLinkHtml = 'Like what you see? Visit the ' +\n",
              "            '<a target=\"_blank\" href=https://colab.research.google.com/notebooks/data_table.ipynb>data table notebook</a>'\n",
              "            + ' to learn more about interactive tables.';\n",
              "          element.innerHTML = '';\n",
              "          dataTable['output_type'] = 'display_data';\n",
              "          await google.colab.output.renderOutput(dataTable, element);\n",
              "          const docLink = document.createElement('div');\n",
              "          docLink.innerHTML = docLinkHtml;\n",
              "          element.appendChild(docLink);\n",
              "        }\n",
              "      </script>\n",
              "    </div>\n",
              "  </div>\n",
              "  "
            ]
          },
          "metadata": {},
          "execution_count": 4
        }
      ]
    },
    {
      "cell_type": "markdown",
      "source": [
        "Handling Missing Values"
      ],
      "metadata": {
        "id": "-M0Fv58vHHfk"
      }
    },
    {
      "cell_type": "code",
      "source": [
        "ms.matrix(data)"
      ],
      "metadata": {
        "colab": {
          "base_uri": "https://localhost:8080/",
          "height": 719
        },
        "id": "E-xoAoCpH77x",
        "outputId": "c5bf0e65-65d4-4469-9dbc-b3a49f6225b1"
      },
      "execution_count": null,
      "outputs": [
        {
          "output_type": "execute_result",
          "data": {
            "text/plain": [
              "<AxesSubplot:>"
            ]
          },
          "metadata": {},
          "execution_count": 5
        },
        {
          "output_type": "display_data",
          "data": {
            "text/plain": [
              "<Figure size 1800x720 with 2 Axes>"
            ],
            "image/png": "[encoded data removed]"
          },
          "metadata": {
            "needs_background": "light"
          }
        }
      ]
    },
    {
      "cell_type": "code",
      "source": [
        "data.isnull().sum()"
      ],
      "metadata": {
        "colab": {
          "base_uri": "https://localhost:8080/"
        },
        "id": "9RpXCkxQGjmk",
        "outputId": "2ca777fa-5fb4-41f6-dc52-73d2b73a9f6d"
      },
      "execution_count": null,
      "outputs": [
        {
          "output_type": "execute_result",
          "data": {
            "text/plain": [
              "Gender                     0\n",
              "Groups                     0\n",
              "Education Level            3\n",
              "Fee Structure              0\n",
              "Test Preparation Course    0\n",
              "WT Score                   1\n",
              "DSBDA Score                2\n",
              "AI Score                   0\n",
              "dtype: int64"
            ]
          },
          "metadata": {},
          "execution_count": 6
        }
      ]
    },
    {
      "cell_type": "code",
      "source": [
        "data['WT Score']=data['WT Score'].fillna(data['WT Score'].mean())\n",
        "data['DSBDA Score']=data['DSBDA Score'].fillna(data['DSBDA Score'].mean())\n",
        "data.info()"
      ],
      "metadata": {
        "colab": {
          "base_uri": "https://localhost:8080/"
        },
        "id": "bLQCLLF6Gjg4",
        "outputId": "22999749-1d2b-4fc6-e27d-411095234b85"
      },
      "execution_count": null,
      "outputs": [
        {
          "output_type": "stream",
          "name": "stdout",
          "text": [
            "<class 'pandas.core.frame.DataFrame'>\n",
            "RangeIndex: 1000 entries, 0 to 999\n",
            "Data columns (total 8 columns):\n",
            " #   Column                   Non-Null Count  Dtype  \n",
            "---  ------                   --------------  -----  \n",
            " 0   Gender                   1000 non-null   object \n",
            " 1   Groups                   1000 non-null   object \n",
            " 2   Education Level          997 non-null    object \n",
            " 3   Fee Structure            1000 non-null   object \n",
            " 4   Test Preparation Course  1000 non-null   object \n",
            " 5   WT Score                 1000 non-null   float64\n",
            " 6   DSBDA Score              1000 non-null   float64\n",
            " 7   AI Score                 1000 non-null   int64  \n",
            "dtypes: float64(2), int64(1), object(5)\n",
            "memory usage: 62.6+ KB\n"
          ]
        }
      ]
    },
    {
      "cell_type": "code",
      "source": [
        "data.Groups.value_counts()"
      ],
      "metadata": {
        "colab": {
          "base_uri": "https://localhost:8080/"
        },
        "id": "s3v7I8XaKtj-",
        "outputId": "cc06a513-87b2-4233-c489-02fcb9e58d9a"
      },
      "execution_count": null,
      "outputs": [
        {
          "output_type": "execute_result",
          "data": {
            "text/plain": [
              "Group C    319\n",
              "Group D    262\n",
              "Group B    190\n",
              "Group E    140\n",
              "Group A     89\n",
              "Name: Groups, dtype: int64"
            ]
          },
          "metadata": {},
          "execution_count": 8
        }
      ]
    },
    {
      "cell_type": "markdown",
      "source": [
        "Data Visualization"
      ],
      "metadata": {
        "id": "-7cXMobof82x"
      }
    },
    {
      "cell_type": "code",
      "source": [
        "import seaborn as sns\n",
        "sns.countplot(data = data, y = 'Groups')"
      ],
      "metadata": {
        "colab": {
          "base_uri": "https://localhost:8080/",
          "height": 297
        },
        "id": "ZVf1ddbHKthW",
        "outputId": "15c13e36-697d-4473-e5e3-c84c69d29383"
      },
      "execution_count": null,
      "outputs": [
        {
          "output_type": "execute_result",
          "data": {
            "text/plain": [
              "<AxesSubplot:xlabel='count', ylabel='Groups'>"
            ]
          },
          "metadata": {},
          "execution_count": 9
        },
        {
          "output_type": "display_data",
          "data": {
            "text/plain": [
              "<Figure size 432x288 with 1 Axes>"
            ],
            "image/png": "[encoded data removed]"
          },
          "metadata": {
            "needs_background": "light"
          }
        }
      ]
    },
    {
      "cell_type": "code",
      "source": [
        "sns.countplot(data = data, y = 'Education Level')"
      ],
      "metadata": {
        "colab": {
          "base_uri": "https://localhost:8080/",
          "height": 297
        },
        "id": "WpaUcZFJKtek",
        "outputId": "094f6963-d77a-49ec-cef5-7797de37198d"
      },
      "execution_count": null,
      "outputs": [
        {
          "output_type": "execute_result",
          "data": {
            "text/plain": [
              "<AxesSubplot:xlabel='count', ylabel='Education Level'>"
            ]
          },
          "metadata": {},
          "execution_count": 10
        },
        {
          "output_type": "display_data",
          "data": {
            "text/plain": [
              "<Figure size 432x288 with 1 Axes>"
            ],
            "image/png": "[encoded data removed]"
          },
          "metadata": {
            "needs_background": "light"
          }
        }
      ]
    },
    {
      "cell_type": "code",
      "source": [
        "sns.countplot(data = data, y = 'Gender')"
      ],
      "metadata": {
        "id": "_F_CHZ73Ktb2",
        "colab": {
          "base_uri": "https://localhost:8080/",
          "height": 297
        },
        "outputId": "e761d3ee-2e6b-47d0-da7b-a643d7feb458"
      },
      "execution_count": null,
      "outputs": [
        {
          "output_type": "execute_result",
          "data": {
            "text/plain": [
              "<AxesSubplot:xlabel='count', ylabel='Gender'>"
            ]
          },
          "metadata": {},
          "execution_count": 11
        },
        {
          "output_type": "display_data",
          "data": {
            "text/plain": [
              "<Figure size 432x288 with 1 Axes>"
            ],
            "image/png": "[encoded data removed]"
          },
          "metadata": {
            "needs_background": "light"
          }
        }
      ]
    },
    {
      "cell_type": "markdown",
      "source": [
        "Correlation Matrix"
      ],
      "metadata": {
        "id": "TzQojn4yf4xA"
      }
    },
    {
      "cell_type": "code",
      "source": [
        "import matplotlib.pyplot as plt"
      ],
      "metadata": {
        "id": "fdFMJO49KtQc"
      },
      "execution_count": null,
      "outputs": []
    },
    {
      "cell_type": "code",
      "source": [
        "plt.figure(figsize=(10,8))\n",
        "sns.heatmap(data.corr().round(2),annot=True, vmin = 0)\n",
        "plt.title('SUBJECTS CORRELATION MATRIX' , size =20)"
      ],
      "metadata": {
        "id": "HKfnuXSZGjV-",
        "colab": {
          "base_uri": "https://localhost:8080/",
          "height": 522
        },
        "outputId": "b181598b-5c3b-48e3-cea8-5bf05015871d"
      },
      "execution_count": null,
      "outputs": [
        {
          "output_type": "execute_result",
          "data": {
            "text/plain": [
              "Text(0.5, 1.0, 'SUBJECTS CORRELATION MATRIX')"
            ]
          },
          "metadata": {},
          "execution_count": 13
        },
        {
          "output_type": "display_data",
          "data": {
            "text/plain": [
              "<Figure size 720x576 with 2 Axes>"
            ],
            "image/png": "[encoded data removed]"
          },
          "metadata": {
            "needs_background": "light"
          }
        }
      ]
    },
    {
      "cell_type": "markdown",
      "source": [
        "\n",
        "Detecting Outliers using Boxplot"
      ],
      "metadata": {
        "id": "JL1Psd8Pdib7"
      }
    },
    {
      "cell_type": "code",
      "source": [
        "sns.boxplot(data = data, y = 'WT Score', x = 'Gender', palette = 'RdBu').set(title = 'WT Scores')"
      ],
      "metadata": {
        "colab": {
          "base_uri": "https://localhost:8080/",
          "height": 313
        },
        "id": "pT6etHIGKtY-",
        "outputId": "49e1adaa-dc90-49ab-e5bc-2e32afe530e7"
      },
      "execution_count": null,
      "outputs": [
        {
          "output_type": "execute_result",
          "data": {
            "text/plain": [
              "[Text(0.5, 1.0, 'WT Scores')]"
            ]
          },
          "metadata": {},
          "execution_count": 14
        },
        {
          "output_type": "display_data",
          "data": {
            "text/plain": [
              "<Figure size 432x288 with 1 Axes>"
            ],
            "image/png": "[encoded data removed]"
          },
          "metadata": {
            "needs_background": "light"
          }
        }
      ]
    },
    {
      "cell_type": "code",
      "source": [
        "fig, ax =plt.subplots(figsize=(10,3))\n",
        "ax.scatter(data['WT Score'], data['Gender'])\n",
        "plt.show()"
      ],
      "metadata": {
        "colab": {
          "base_uri": "https://localhost:8080/",
          "height": 211
        },
        "id": "EAWgjJONWOm2",
        "outputId": "9ce96be1-c074-4327-bb8a-813776f78c87"
      },
      "execution_count": null,
      "outputs": [
        {
          "output_type": "display_data",
          "data": {
            "text/plain": [
              "<Figure size 720x216 with 1 Axes>"
            ],
            "image/png": "[encoded data removed]"
          },
          "metadata": {
            "needs_background": "light"
          }
        }
      ]
    },
    {
      "cell_type": "code",
      "source": [
        "sns.boxplot(data = data, y = 'AI Score', x = 'Gender', palette = 'RdBu').set(title = 'AI Scores')"
      ],
      "metadata": {
        "colab": {
          "base_uri": "https://localhost:8080/",
          "height": 313
        },
        "id": "wKnwAda6KtWH",
        "outputId": "6ca9d955-dfc9-44a4-9deb-6cdf6d45f3e3"
      },
      "execution_count": null,
      "outputs": [
        {
          "output_type": "execute_result",
          "data": {
            "text/plain": [
              "[Text(0.5, 1.0, 'AI Scores')]"
            ]
          },
          "metadata": {},
          "execution_count": 16
        },
        {
          "output_type": "display_data",
          "data": {
            "text/plain": [
              "<Figure size 432x288 with 1 Axes>"
            ],
            "image/png": "[encoded data removed]"
          },
          "metadata": {
            "needs_background": "light"
          }
        }
      ]
    },
    {
      "cell_type": "code",
      "source": [
        "fig, ax =plt.subplots(figsize=(10,3))\n",
        "ax.scatter(data['AI Score'], data['Gender'])\n",
        "plt.show()"
      ],
      "metadata": {
        "colab": {
          "base_uri": "https://localhost:8080/",
          "height": 211
        },
        "id": "rQ3d1KgddZo8",
        "outputId": "4be14456-c6c7-486f-d463-4240d57380f6"
      },
      "execution_count": null,
      "outputs": [
        {
          "output_type": "display_data",
          "data": {
            "text/plain": [
              "<Figure size 720x216 with 1 Axes>"
            ],
            "image/png": "[encoded data removed]"
          },
          "metadata": {
            "needs_background": "light"
          }
        }
      ]
    },
    {
      "cell_type": "code",
      "source": [
        "sns.boxplot(data = data, y = 'DSBDA Score', x = 'Gender', palette = 'RdBu').set(title = 'DSBDA Scores')"
      ],
      "metadata": {
        "colab": {
          "base_uri": "https://localhost:8080/",
          "height": 313
        },
        "id": "sOWAgQu4KtTU",
        "outputId": "11519799-3f1c-4191-cc95-ee4fb4802440"
      },
      "execution_count": null,
      "outputs": [
        {
          "output_type": "execute_result",
          "data": {
            "text/plain": [
              "[Text(0.5, 1.0, 'DSBDA Scores')]"
            ]
          },
          "metadata": {},
          "execution_count": 18
        },
        {
          "output_type": "display_data",
          "data": {
            "text/plain": [
              "<Figure size 432x288 with 1 Axes>"
            ],
            "image/png": "[encoded data removed]"
          },
          "metadata": {
            "needs_background": "light"
          }
        }
      ]
    },
    {
      "cell_type": "code",
      "source": [
        "fig, ax =plt.subplots(figsize=(10,3))\n",
        "ax.scatter(data['AI Score'], data['Gender'])\n",
        "plt.show()"
      ],
      "metadata": {
        "colab": {
          "base_uri": "https://localhost:8080/",
          "height": 211
        },
        "id": "ZoEBcp5tddFU",
        "outputId": "4266f6da-59e2-4e00-f356-56b52d7dbc24"
      },
      "execution_count": null,
      "outputs": [
        {
          "output_type": "display_data",
          "data": {
            "text/plain": [
              "<Figure size 720x216 with 1 Axes>"
            ],
            "image/png": "[encoded data removed]"
          },
          "metadata": {
            "needs_background": "light"
          }
        }
      ]
    },
    {
      "cell_type": "code",
      "source": [
        "col = ['WT Score','AI Score','DSBDA Score']\n",
        "data.boxplot(col)"
      ],
      "metadata": {
        "colab": {
          "base_uri": "https://localhost:8080/",
          "height": 283
        },
        "id": "mItC_ryWkwlB",
        "outputId": "823832a0-f952-4fa3-de38-808c66cbbaec"
      },
      "execution_count": null,
      "outputs": [
        {
          "output_type": "execute_result",
          "data": {
            "text/plain": [
              "<AxesSubplot:>"
            ]
          },
          "metadata": {},
          "execution_count": 20
        },
        {
          "output_type": "display_data",
          "data": {
            "text/plain": [
              "<Figure size 432x288 with 1 Axes>"
            ],
            "image/png": "[encoded data removed]"
          },
          "metadata": {
            "needs_background": "light"
          }
        }
      ]
    },
    {
      "cell_type": "markdown",
      "source": [
        "Z Score"
      ],
      "metadata": {
        "id": "0SEjIW62lHIr"
      }
    },
    {
      "cell_type": "code",
      "source": [
        "import numpy as np \n",
        "from scipy import stats\n",
        "z=np.abs(stats.zscore(data['WT Score']))\n",
        "with pd.option_context('display.max_rows', None, 'display.max_columns', None): \n",
        "    print(z)"
      ],
      "metadata": {
        "id": "XD3OmK9UWOtF",
        "colab": {
          "base_uri": "https://localhost:8080/"
        },
        "outputId": "e89cfd3c-60b6-4d4b-c66c-44bfe5135d16"
      },
      "execution_count": null,
      "outputs": [
        {
          "output_type": "stream",
          "name": "stdout",
          "text": [
            "0      0.389768\n",
            "1      0.191812\n",
            "2      1.577499\n",
            "3      1.259859\n",
            "4      0.653708\n",
            "5      0.323783\n",
            "6      1.445529\n",
            "7      1.721754\n",
            "8      0.138113\n",
            "9      1.853725\n",
            "10     0.534023\n",
            "11     1.721754\n",
            "12     0.072128\n",
            "13     0.785678\n",
            "14     1.061904\n",
            "15     0.191812\n",
            "16     1.445529\n",
            "17     3.173426\n",
            "18     1.325844\n",
            "19     0.797964\n",
            "20     0.006143\n",
            "21     0.072128\n",
            "22     1.457814\n",
            "23     0.191812\n",
            "24     0.521738\n",
            "25     0.455753\n",
            "26     0.191812\n",
            "27     0.059842\n",
            "28     0.257798\n",
            "29     0.000000\n",
            "30     0.191812\n",
            "31     0.204098\n",
            "32     0.665993\n",
            "33     1.721754\n",
            "34     2.039394\n",
            "35     0.983633\n",
            "36     0.521738\n",
            "37     1.061904\n",
            "38     0.587723\n",
            "39     0.600008\n",
            "40     0.731978\n",
            "41     0.534023\n",
            "42     0.863949\n",
            "43     0.468038\n",
            "44     1.061904\n",
            "45     0.072128\n",
            "46     0.731978\n",
            "47     0.006143\n",
            "48     0.600008\n",
            "49     1.049618\n",
            "50     0.863949\n",
            "51     0.719693\n",
            "52     0.863949\n",
            "53     1.445529\n",
            "54     0.323783\n",
            "55     2.183650\n",
            "56     1.049618\n",
            "57     0.929934\n",
            "58     0.534023\n",
            "59     4.361157\n",
            "60     0.851663\n",
            "61     1.787740\n",
            "62     0.270083\n",
            "63     0.191812\n",
            "64     0.468038\n",
            "65     0.059842\n",
            "66     1.391829\n",
            "67     0.402053\n",
            "68     0.336068\n",
            "69     1.787740\n",
            "70     0.534023\n",
            "71     0.204098\n",
            "72     1.655769\n",
            "73     0.336068\n",
            "74     1.127889\n",
            "75     1.457814\n",
            "76     2.381605\n",
            "77     0.917648\n",
            "78     0.336068\n",
            "79     0.270083\n",
            "80     1.259859\n",
            "81     1.127889\n",
            "82     1.061904\n",
            "83     0.389768\n",
            "84     1.589784\n",
            "85     0.455753\n",
            "86     0.653708\n",
            "87     0.323783\n",
            "88     0.534023\n",
            "89     0.455753\n",
            "90     0.072128\n",
            "91     2.579560\n",
            "92     0.323783\n",
            "93     1.523799\n",
            "94     0.851663\n",
            "95     0.785678\n",
            "96     0.072128\n",
            "97     0.204098\n",
            "98     0.534023\n",
            "99     0.072128\n",
            "100    0.851663\n",
            "101    0.125827\n",
            "102    1.247573\n",
            "103    0.402053\n",
            "104    2.105379\n",
            "105    0.534023\n",
            "106    1.379544\n",
            "107    0.006143\n",
            "108    0.929934\n",
            "109    0.257798\n",
            "110    0.719693\n",
            "111    0.270083\n",
            "112    0.797964\n",
            "113    0.995919\n",
            "114    2.171364\n",
            "115    1.181588\n",
            "116    0.587723\n",
            "117    0.785678\n",
            "118    0.995919\n",
            "119    0.731978\n",
            "120    0.851663\n",
            "121    1.643484\n",
            "122    1.445529\n",
            "123    0.204098\n",
            "124    1.115603\n",
            "125    1.379544\n",
            "126    0.389768\n",
            "127    0.072128\n",
            "128    1.049618\n",
            "129    0.995919\n",
            "130    1.511514\n",
            "131    0.863949\n",
            "132    1.379544\n",
            "133    0.587723\n",
            "134    0.521738\n",
            "135    0.534023\n",
            "136    0.995919\n",
            "137    0.257798\n",
            "138    0.468038\n",
            "139    0.323783\n",
            "140    0.653708\n",
            "141    0.468038\n",
            "142    1.589784\n",
            "143    0.600008\n",
            "144    1.445529\n",
            "145    2.909486\n",
            "146    1.445529\n",
            "147    0.455753\n",
            "148    0.125827\n",
            "149    2.237349\n",
            "150    0.270083\n",
            "151    0.719693\n",
            "152    0.468038\n",
            "153    0.797964\n",
            "154    0.270083\n",
            "155    0.257798\n",
            "156    0.006143\n",
            "157    0.402053\n",
            "158    0.336068\n",
            "159    0.006143\n",
            "160    1.049618\n",
            "161    0.587723\n",
            "162    1.127889\n",
            "163    0.929934\n",
            "164    0.983633\n",
            "165    1.973409\n",
            "166    0.863949\n",
            "167    0.534023\n",
            "168    0.125827\n",
            "169    0.059842\n",
            "170    0.389768\n",
            "171    1.841439\n",
            "172    0.851663\n",
            "173    0.204098\n",
            "174    1.523799\n",
            "175    0.983633\n",
            "176    1.325844\n",
            "177    0.323783\n",
            "178    0.929934\n",
            "179    2.039394\n",
            "180    0.270083\n",
            "181    1.325844\n",
            "182    1.061904\n",
            "183    0.072128\n",
            "184    1.391829\n",
            "185    0.072128\n",
            "186    0.917648\n",
            "187    0.270083\n",
            "188    1.193874\n",
            "189    0.719693\n",
            "190    0.006143\n",
            "191    0.653708\n",
            "192    0.270083\n",
            "193    0.719693\n",
            "194    0.191812\n",
            "195    0.336068\n",
            "196    0.468038\n",
            "197    0.731978\n",
            "198    1.391829\n",
            "199    0.785678\n",
            "200    0.059842\n",
            "201    0.072128\n",
            "202    0.191812\n",
            "203    0.600008\n",
            "204    0.468038\n",
            "205    0.521738\n",
            "206    1.049618\n",
            "207    0.983633\n",
            "208    0.521738\n",
            "209    0.534023\n",
            "210    0.917648\n",
            "211    2.051680\n",
            "212    1.589784\n",
            "213    0.402053\n",
            "214    1.379544\n",
            "215    1.181588\n",
            "216    1.115603\n",
            "217    2.117665\n",
            "218    0.006143\n",
            "219    0.336068\n",
            "220    0.665993\n",
            "221    1.379544\n",
            "222    0.731978\n",
            "223    1.313559\n",
            "224    0.929934\n",
            "225    1.391829\n",
            "226    0.389768\n",
            "227    0.600008\n",
            "228    0.125827\n",
            "229    1.445529\n",
            "230    0.653708\n",
            "231    1.325844\n",
            "232    0.059842\n",
            "233    1.709469\n",
            "234    1.115603\n",
            "235    0.917648\n",
            "236    0.204098\n",
            "237    0.138113\n",
            "238    0.797964\n",
            "239    1.181588\n",
            "240    0.455753\n",
            "241    0.917648\n",
            "242    0.665993\n",
            "243    0.468038\n",
            "244    0.587723\n",
            "245    1.247573\n",
            "246    1.511514\n",
            "247    0.534023\n",
            "248    0.072128\n",
            "249    0.125827\n",
            "250    1.259859\n",
            "251    0.323783\n",
            "252    0.402053\n",
            "253    0.917648\n",
            "254    0.797964\n",
            "255    0.270083\n",
            "256    0.138113\n",
            "257    0.785678\n",
            "258    0.257798\n",
            "259    0.072128\n",
            "260    0.138113\n",
            "261    0.851663\n",
            "262    1.457814\n",
            "263    2.171364\n",
            "264    0.653708\n",
            "265    0.468038\n",
            "266    0.204098\n",
            "267    0.191812\n",
            "268    1.445529\n",
            "269    0.323783\n",
            "270    0.191812\n",
            "271    0.534023\n",
            "272    1.259859\n",
            "273    0.072128\n",
            "274    1.445529\n",
            "275    1.115603\n",
            "276    1.247573\n",
            "277    0.468038\n",
            "278    0.072128\n",
            "279    0.455753\n",
            "280    0.863949\n",
            "281    1.391829\n",
            "282    0.455753\n",
            "283    0.257798\n",
            "284    1.919710\n",
            "285    0.983633\n",
            "286    2.039394\n",
            "287    0.059842\n",
            "288    1.445529\n",
            "289    0.719693\n",
            "290    0.653708\n",
            "291    1.313559\n",
            "292    0.204098\n",
            "293    0.072128\n",
            "294    0.785678\n",
            "295    0.059842\n",
            "296    1.325844\n",
            "297    0.323783\n",
            "298    1.721754\n",
            "299    1.577499\n",
            "300    0.983633\n",
            "301    0.665993\n",
            "302    0.059842\n",
            "303    0.917648\n",
            "304    0.521738\n",
            "305    0.191812\n",
            "306    2.171364\n",
            "307    0.995919\n",
            "308    0.863949\n",
            "309    1.127889\n",
            "310    0.455753\n",
            "311    0.006143\n",
            "312    0.059842\n",
            "313    0.125827\n",
            "314    0.468038\n",
            "315    0.323783\n",
            "316    0.719693\n",
            "317    1.115603\n",
            "318    0.204098\n",
            "319    0.665993\n",
            "320    0.059842\n",
            "321    0.587723\n",
            "322    0.323783\n",
            "323    1.523799\n",
            "324    1.655769\n",
            "325    1.049618\n",
            "326    0.336068\n",
            "327    2.513575\n",
            "328    1.049618\n",
            "329    1.655769\n",
            "330    0.323783\n",
            "331    1.259859\n",
            "332    0.270083\n",
            "333    1.577499\n",
            "334    1.115603\n",
            "335    0.336068\n",
            "336    0.653708\n",
            "337    1.127889\n",
            "338    2.777515\n",
            "339    2.051680\n",
            "340    0.534023\n",
            "341    0.336068\n",
            "342    0.191812\n",
            "343    0.059842\n",
            "344    0.851663\n",
            "345    0.389768\n",
            "346    0.270083\n",
            "347    0.719693\n",
            "348    0.587723\n",
            "349    1.379544\n",
            "350    0.929934\n",
            "351    0.006143\n",
            "352    0.204098\n",
            "353    1.325844\n",
            "354    0.468038\n",
            "355    0.336068\n",
            "356    0.204098\n",
            "357    1.589784\n",
            "358    0.468038\n",
            "359    0.917648\n",
            "360    0.534023\n",
            "361    1.247573\n",
            "362    0.929934\n",
            "363    2.579560\n",
            "364    0.468038\n",
            "365    1.127889\n",
            "366    0.191812\n",
            "367    0.336068\n",
            "368    1.457814\n",
            "369    0.455753\n",
            "370    1.181588\n",
            "371    1.391829\n",
            "372    0.521738\n",
            "373    1.049618\n",
            "374    0.468038\n",
            "375    1.325844\n",
            "376    0.917648\n",
            "377    1.247573\n",
            "378    0.323783\n",
            "379    0.006143\n",
            "380    0.917648\n",
            "381    1.379544\n",
            "382    0.851663\n",
            "383    1.853725\n",
            "384    1.853725\n",
            "385    0.059842\n",
            "386    0.138113\n",
            "387    0.600008\n",
            "388    0.270083\n",
            "389    0.455753\n",
            "390    0.455753\n",
            "391    0.719693\n",
            "392    0.653708\n",
            "393    0.600008\n",
            "394    0.072128\n",
            "395    1.193874\n",
            "396    1.061904\n",
            "397    1.247573\n",
            "398    0.521738\n",
            "399    0.402053\n",
            "400    0.468038\n",
            "401    0.863949\n",
            "402    1.127889\n",
            "403    1.445529\n",
            "404    0.797964\n",
            "405    0.204098\n",
            "406    0.072128\n",
            "407    1.049618\n",
            "408    0.929934\n",
            "409    1.379544\n",
            "410    0.257798\n",
            "411    1.181588\n",
            "412    0.323783\n",
            "413    0.204098\n",
            "414    0.995919\n",
            "415    1.181588\n",
            "416    0.323783\n",
            "417    0.521738\n",
            "418    0.125827\n",
            "419    0.600008\n",
            "420    1.049618\n",
            "421    0.600008\n",
            "422    1.259859\n",
            "423    0.468038\n",
            "424    1.655769\n",
            "425    0.270083\n",
            "426    1.313559\n",
            "427    0.191812\n",
            "428    0.072128\n",
            "429    0.125827\n",
            "430    0.138113\n",
            "431    0.336068\n",
            "432    0.336068\n",
            "433    1.259859\n",
            "434    0.455753\n",
            "435    1.061904\n",
            "436    0.587723\n",
            "437    0.587723\n",
            "438    0.257798\n",
            "439    1.511514\n",
            "440    0.059842\n",
            "441    0.785678\n",
            "442    0.468038\n",
            "443    0.455753\n",
            "444    0.851663\n",
            "445    0.059842\n",
            "446    0.191812\n",
            "447    1.313559\n",
            "448    1.259859\n",
            "449    0.983633\n",
            "450    0.138113\n",
            "451    2.237349\n",
            "452    0.072128\n",
            "453    0.072128\n",
            "454    0.863949\n",
            "455    1.919710\n",
            "456    0.851663\n",
            "457    0.863949\n",
            "458    2.237349\n",
            "459    0.389768\n",
            "460    0.863949\n",
            "461    0.797964\n",
            "462    0.323783\n",
            "463    0.719693\n",
            "464    0.587723\n",
            "465    1.181588\n",
            "466    2.645545\n",
            "467    0.389768\n",
            "468    0.719693\n",
            "469    1.643484\n",
            "470    1.115603\n",
            "471    0.204098\n",
            "472    0.125827\n",
            "473    0.468038\n",
            "474    1.577499\n",
            "475    0.323783\n",
            "476    0.653708\n",
            "477    0.917648\n",
            "478    0.731978\n",
            "479    0.653708\n",
            "480    0.455753\n",
            "481    0.929934\n",
            "482    0.125827\n",
            "483    0.468038\n",
            "484    1.127889\n",
            "485    0.257798\n",
            "486    0.336068\n",
            "487    0.402053\n",
            "488    0.138113\n",
            "489    0.851663\n",
            "490    0.072128\n",
            "491    0.138113\n",
            "492    1.115603\n",
            "493    0.983633\n",
            "494    0.797964\n",
            "495    0.125827\n",
            "496    0.797964\n",
            "497    0.468038\n",
            "498    0.006143\n",
            "499    0.653708\n",
            "500    0.521738\n",
            "501    1.841439\n",
            "502    0.204098\n",
            "503    1.907424\n",
            "504    1.721754\n",
            "505    1.049618\n",
            "506    0.125827\n",
            "507    0.731978\n",
            "508    0.851663\n",
            "509    1.313559\n",
            "510    0.653708\n",
            "511    0.138113\n",
            "512    0.270083\n",
            "513    0.797964\n",
            "514    0.719693\n",
            "515    0.653708\n",
            "516    0.521738\n",
            "517    0.006143\n",
            "518    0.006143\n",
            "519    0.059842\n",
            "520    0.323783\n",
            "521    1.643484\n",
            "522    0.191812\n",
            "523    0.797964\n",
            "524    0.863949\n",
            "525    0.125827\n",
            "526    0.665993\n",
            "527    1.985695\n",
            "528    2.447590\n",
            "529    0.270083\n",
            "530    0.125827\n",
            "531    1.259859\n",
            "532    0.270083\n",
            "533    0.851663\n",
            "534    0.455753\n",
            "535    0.006143\n",
            "536    0.995919\n",
            "537    0.995919\n",
            "538    1.247573\n",
            "539    2.039394\n",
            "540    0.587723\n",
            "541    0.851663\n",
            "542    0.983633\n",
            "543    1.049618\n",
            "544    0.138113\n",
            "545    0.785678\n",
            "546    1.709469\n",
            "547    0.389768\n",
            "548    0.270083\n",
            "549    0.851663\n",
            "550    0.851663\n",
            "551    1.379544\n",
            "552    1.721754\n",
            "553    0.719693\n",
            "554    0.863949\n",
            "555    2.249635\n",
            "556    0.731978\n",
            "557    0.336068\n",
            "558    0.863949\n",
            "559    0.455753\n",
            "560    0.521738\n",
            "561    0.204098\n",
            "562    1.973409\n",
            "563    0.204098\n",
            "564    1.193874\n",
            "565    1.193874\n",
            "566    1.709469\n",
            "567    0.336068\n",
            "568    0.204098\n",
            "569    0.125827\n",
            "570    0.323783\n",
            "571    1.643484\n",
            "572    0.863949\n",
            "573    1.061904\n",
            "574    0.521738\n",
            "575    1.721754\n",
            "576    0.336068\n",
            "577    0.983633\n",
            "578    1.193874\n",
            "579    0.863949\n",
            "580    0.983633\n",
            "581    0.719693\n",
            "582    0.204098\n",
            "583    0.455753\n",
            "584    0.191812\n",
            "585    0.072128\n",
            "586    0.731978\n",
            "587    1.457814\n",
            "588    0.797964\n",
            "589    1.193874\n",
            "590    0.534023\n",
            "591    0.323783\n",
            "592    0.125827\n",
            "593    0.521738\n",
            "594    1.709469\n",
            "595    0.665993\n",
            "596    2.381605\n",
            "597    0.863949\n",
            "598    0.191812\n",
            "599    0.072128\n",
            "600    0.797964\n",
            "601    2.447590\n",
            "602    0.653708\n",
            "603    0.402053\n",
            "604    1.181588\n",
            "605    0.587723\n",
            "606    1.247573\n",
            "607    1.721754\n",
            "608    0.336068\n",
            "609    0.534023\n",
            "610    0.191812\n",
            "611    0.534023\n",
            "612    1.841439\n",
            "613    0.072128\n",
            "614    1.049618\n",
            "615    0.402053\n",
            "616    1.919710\n",
            "617    1.445529\n",
            "618    1.907424\n",
            "619    0.072128\n",
            "620    2.051680\n",
            "621    0.270083\n",
            "622    0.534023\n",
            "623    2.237349\n",
            "624    0.336068\n",
            "625    2.237349\n",
            "626    0.191812\n",
            "627    0.336068\n",
            "628    1.127889\n",
            "629    1.457814\n",
            "630    0.059842\n",
            "631    0.851663\n",
            "632    0.006143\n",
            "633    0.587723\n",
            "634    1.181588\n",
            "635    0.323783\n",
            "636    0.059842\n",
            "637    0.917648\n",
            "638    1.313559\n",
            "639    0.653708\n",
            "640    1.655769\n",
            "641    0.521738\n",
            "642    0.389768\n",
            "643    0.521738\n",
            "644    0.257798\n",
            "645    0.072128\n",
            "646    0.468038\n",
            "647    0.138113\n",
            "648    1.061904\n",
            "649    0.191812\n",
            "650    0.995919\n",
            "651    0.125827\n",
            "652    1.247573\n",
            "653    0.072128\n",
            "654    0.455753\n",
            "655    0.270083\n",
            "656    0.719693\n",
            "657    0.191812\n",
            "658    1.523799\n",
            "659    1.577499\n",
            "660    0.521738\n",
            "661    0.455753\n",
            "662    0.731978\n",
            "663    0.072128\n",
            "664    0.917648\n",
            "665    1.061904\n",
            "666    0.204098\n",
            "667    0.719693\n",
            "668    0.455753\n",
            "669    0.983633\n",
            "670    0.006143\n",
            "671    0.929934\n",
            "672    0.191812\n",
            "673    0.072128\n",
            "674    0.191812\n",
            "675    1.061904\n",
            "676    0.455753\n",
            "677    0.257798\n",
            "678    0.983633\n",
            "679    0.204098\n",
            "680    0.059842\n",
            "681    0.402053\n",
            "682    0.270083\n",
            "683    2.447590\n",
            "684    0.270083\n",
            "685    1.841439\n",
            "686    1.247573\n",
            "687    0.719693\n",
            "688    0.863949\n",
            "689    1.775454\n",
            "690    1.127889\n",
            "691    0.455753\n",
            "692    0.006143\n",
            "693    0.719693\n",
            "694    1.127889\n",
            "695    0.851663\n",
            "696    0.587723\n",
            "697    0.468038\n",
            "698    0.600008\n",
            "699    0.006143\n",
            "700    0.851663\n",
            "701    0.600008\n",
            "702    1.379544\n",
            "703    0.204098\n",
            "704    0.468038\n",
            "705    0.270083\n",
            "706    1.325844\n",
            "707    0.006143\n",
            "708    1.511514\n",
            "709    1.589784\n",
            "710    1.775454\n",
            "711    0.917648\n",
            "712    2.105379\n",
            "713    0.983633\n",
            "714    0.402053\n",
            "715    0.653708\n",
            "716    0.455753\n",
            "717    1.973409\n",
            "718    0.653708\n",
            "719    1.643484\n",
            "720    0.270083\n",
            "721    0.731978\n",
            "722    0.521738\n",
            "723    1.061904\n",
            "724    1.259859\n",
            "725    0.983633\n",
            "726    0.072128\n",
            "727    0.125827\n",
            "728    0.455753\n",
            "729    0.863949\n",
            "730    0.125827\n",
            "731    0.731978\n",
            "732    1.379544\n",
            "733    0.731978\n",
            "734    0.863949\n",
            "735    0.059842\n",
            "736    1.709469\n",
            "737    0.863949\n",
            "738    0.983633\n",
            "739    0.336068\n",
            "740    0.917648\n",
            "741    1.919710\n",
            "742    0.983633\n",
            "743    0.468038\n",
            "744    0.731978\n",
            "745    0.389768\n",
            "746    0.191812\n",
            "747    0.191812\n",
            "748    1.061904\n",
            "749    1.379544\n",
            "750    0.323783\n",
            "751    0.125827\n",
            "752    0.851663\n",
            "753    0.719693\n",
            "754    0.534023\n",
            "755    1.181588\n",
            "756    0.731978\n",
            "757    0.257798\n",
            "758    0.929934\n",
            "759    0.191812\n",
            "760    0.863949\n",
            "761    1.193874\n",
            "762    0.785678\n",
            "763    0.270083\n",
            "764    0.402053\n",
            "765    0.521738\n",
            "766    0.534023\n",
            "767    0.653708\n",
            "768    0.125827\n",
            "769    0.534023\n",
            "770    0.929934\n",
            "771    0.587723\n",
            "772    0.929934\n",
            "773    0.270083\n",
            "774    0.006143\n",
            "775    1.127889\n",
            "776    0.006143\n",
            "777    2.051680\n",
            "778    0.389768\n",
            "779    1.841439\n",
            "780    1.325844\n",
            "781    0.719693\n",
            "782    0.653708\n",
            "783    0.929934\n",
            "784    1.643484\n",
            "785    2.249635\n",
            "786    0.389768\n",
            "787    3.107441\n",
            "788    0.125827\n",
            "789    0.929934\n",
            "790    1.193874\n",
            "791    0.402053\n",
            "792    0.006143\n",
            "793    1.511514\n",
            "794    1.589784\n",
            "795    0.600008\n",
            "796    0.257798\n",
            "797    0.257798\n",
            "798    0.191812\n",
            "799    0.929934\n",
            "800    0.059842\n",
            "801    0.653708\n",
            "802    1.379544\n",
            "803    1.049618\n",
            "804    0.455753\n",
            "805    0.587723\n",
            "806    0.138113\n",
            "807    1.655769\n",
            "808    1.577499\n",
            "809    0.468038\n",
            "810    0.995919\n",
            "811    1.391829\n",
            "812    0.797964\n",
            "813    1.379544\n",
            "814    0.389768\n",
            "815    1.841439\n",
            "816    1.391829\n",
            "817    0.336068\n",
            "818    0.402053\n",
            "819    0.719693\n",
            "820    1.247573\n",
            "821    0.785678\n",
            "822    1.127889\n",
            "823    0.323783\n",
            "824    1.193874\n",
            "825    0.270083\n",
            "826    0.665993\n",
            "827    0.072128\n",
            "828    0.191812\n",
            "829    0.125827\n",
            "830    0.336068\n",
            "831    0.521738\n",
            "832    0.138113\n",
            "833    0.719693\n",
            "834    0.534023\n",
            "835    0.402053\n",
            "836    0.455753\n",
            "837    0.587723\n",
            "838    0.534023\n",
            "839    0.006143\n",
            "840    1.787740\n",
            "841    0.138113\n",
            "842    2.843501\n",
            "843    0.521738\n",
            "844    1.721754\n",
            "845    1.577499\n",
            "846    1.643484\n",
            "847    0.138113\n",
            "848    0.468038\n",
            "849    0.917648\n",
            "850    0.323783\n",
            "851    0.336068\n",
            "852    1.379544\n",
            "853    1.049618\n",
            "854    0.270083\n",
            "855    2.039394\n",
            "856    0.587723\n",
            "857    0.072128\n",
            "858    0.929934\n",
            "859    1.379544\n",
            "860    0.863949\n",
            "861    0.983633\n",
            "862    1.787740\n",
            "863    0.323783\n",
            "864    2.039394\n",
            "865    1.049618\n",
            "866    0.468038\n",
            "867    0.336068\n",
            "868    0.785678\n",
            "869    1.127889\n",
            "870    0.468038\n",
            "871    0.257798\n",
            "872    1.049618\n",
            "873    1.577499\n",
            "874    1.523799\n",
            "875    0.917648\n",
            "876    0.983633\n",
            "877    0.600008\n",
            "878    0.468038\n",
            "879    0.138113\n",
            "880    0.204098\n",
            "881    0.323783\n",
            "882    0.138113\n",
            "883    0.731978\n",
            "884    0.995919\n",
            "885    0.270083\n",
            "886    1.775454\n",
            "887    0.797964\n",
            "888    0.191812\n",
            "889    1.457814\n",
            "890    1.313559\n",
            "891    1.247573\n",
            "892    1.061904\n",
            "893    1.445529\n",
            "894    0.468038\n",
            "895    2.249635\n",
            "896    1.985695\n",
            "897    0.204098\n",
            "898    0.059842\n",
            "899    0.072128\n",
            "900    1.247573\n",
            "901    0.455753\n",
            "902    2.117665\n",
            "903    1.775454\n",
            "904    0.059842\n",
            "905    1.445529\n",
            "906    0.600008\n",
            "907    0.851663\n",
            "908    0.059842\n",
            "909    0.257798\n",
            "910    1.061904\n",
            "911    0.191812\n",
            "912    0.929934\n",
            "913    1.259859\n",
            "914    1.325844\n",
            "915    0.125827\n",
            "916    2.237349\n",
            "917    1.457814\n",
            "918    0.600008\n",
            "919    1.643484\n",
            "920    0.191812\n",
            "921    2.051680\n",
            "922    0.389768\n",
            "923    0.797964\n",
            "924    0.521738\n",
            "925    0.521738\n",
            "926    0.138113\n",
            "927    0.072128\n",
            "928    1.325844\n",
            "929    1.193874\n",
            "930    0.059842\n",
            "931    0.270083\n",
            "932    0.336068\n",
            "933    0.257798\n",
            "934    2.105379\n",
            "935    0.257798\n",
            "936    0.059842\n",
            "937    0.600008\n",
            "938    1.247573\n",
            "939    0.719693\n",
            "940    0.389768\n",
            "941    0.785678\n",
            "942    0.983633\n",
            "943    0.336068\n",
            "944    0.534023\n",
            "945    0.797964\n",
            "946    1.049618\n",
            "947    1.127889\n",
            "948    1.127889\n",
            "949    0.600008\n",
            "950    1.841439\n",
            "951    0.587723\n",
            "952    0.521738\n",
            "953    0.534023\n",
            "954    0.270083\n",
            "955    0.389768\n",
            "956    1.181588\n",
            "957    1.709469\n",
            "958    1.391829\n",
            "959    0.587723\n",
            "960    0.665993\n",
            "961    1.193874\n",
            "962    2.237349\n",
            "963    0.072128\n",
            "964    0.389768\n",
            "965    0.270083\n",
            "966    0.006143\n",
            "967    0.204098\n",
            "968    0.125827\n",
            "969    0.587723\n",
            "970    1.511514\n",
            "971    0.785678\n",
            "972    0.863949\n",
            "973    1.127889\n",
            "974    0.797964\n",
            "975    0.138113\n",
            "976    0.402053\n",
            "977    0.270083\n",
            "978    0.731978\n",
            "979    1.643484\n",
            "980    3.833277\n",
            "981    0.983633\n",
            "982    0.851663\n",
            "983    0.785678\n",
            "984    0.521738\n",
            "985    0.600008\n",
            "986    1.721754\n",
            "987    0.983633\n",
            "988    1.457814\n",
            "989    0.059842\n",
            "990    1.313559\n",
            "991    0.072128\n",
            "992    0.731978\n",
            "993    0.270083\n",
            "994    0.204098\n",
            "995    1.445529\n",
            "996    0.270083\n",
            "997    0.468038\n",
            "998    0.125827\n",
            "999    0.719693\n",
            "Name: WT Score, dtype: float64\n"
          ]
        }
      ]
    },
    {
      "cell_type": "code",
      "source": [
        "threshold=0.9\n",
        "sample_outliers = np.where(z <threshold)\n",
        "sample_outliers"
      ],
      "metadata": {
        "id": "ncpkudUgbX-b",
        "colab": {
          "base_uri": "https://localhost:8080/"
        },
        "outputId": "cf8e7b13-4219-44c3-9aef-2ceef01aa654"
      },
      "execution_count": null,
      "outputs": [
        {
          "output_type": "execute_result",
          "data": {
            "text/plain": [
              "(array([  0,   1,   4,   5,   8,  10,  12,  13,  15,  19,  20,  21,  23,\n",
              "         24,  25,  26,  27,  28,  29,  30,  31,  32,  36,  38,  39,  40,\n",
              "         41,  42,  43,  45,  46,  47,  48,  50,  51,  52,  54,  58,  60,\n",
              "         62,  63,  64,  65,  67,  68,  70,  71,  73,  78,  79,  83,  85,\n",
              "         86,  87,  88,  89,  90,  92,  94,  95,  96,  97,  98,  99, 100,\n",
              "        101, 103, 105, 107, 109, 110, 111, 112, 116, 117, 119, 120, 123,\n",
              "        126, 127, 131, 133, 134, 135, 137, 138, 139, 140, 141, 143, 147,\n",
              "        148, 150, 151, 152, 153, 154, 155, 156, 157, 158, 159, 161, 166,\n",
              "        167, 168, 169, 170, 172, 173, 177, 180, 183, 185, 187, 189, 190,\n",
              "        191, 192, 193, 194, 195, 196, 197, 199, 200, 201, 202, 203, 204,\n",
              "        205, 208, 209, 213, 218, 219, 220, 222, 226, 227, 228, 230, 232,\n",
              "        236, 237, 238, 240, 242, 243, 244, 247, 248, 249, 251, 252, 254,\n",
              "        255, 256, 257, 258, 259, 260, 261, 264, 265, 266, 267, 269, 270,\n",
              "        271, 273, 277, 278, 279, 280, 282, 283, 287, 289, 290, 292, 293,\n",
              "        294, 295, 297, 301, 302, 304, 305, 308, 310, 311, 312, 313, 314,\n",
              "        315, 316, 318, 319, 320, 321, 322, 326, 330, 332, 335, 336, 340,\n",
              "        341, 342, 343, 344, 345, 346, 347, 348, 351, 352, 354, 355, 356,\n",
              "        358, 360, 364, 366, 367, 369, 372, 374, 378, 379, 382, 385, 386,\n",
              "        387, 388, 389, 390, 391, 392, 393, 394, 398, 399, 400, 401, 404,\n",
              "        405, 406, 410, 412, 413, 416, 417, 418, 419, 421, 423, 425, 427,\n",
              "        428, 429, 430, 431, 432, 434, 436, 437, 438, 440, 441, 442, 443,\n",
              "        444, 445, 446, 450, 452, 453, 454, 456, 457, 459, 460, 461, 462,\n",
              "        463, 464, 467, 468, 471, 472, 473, 475, 476, 478, 479, 480, 482,\n",
              "        483, 485, 486, 487, 488, 489, 490, 491, 494, 495, 496, 497, 498,\n",
              "        499, 500, 502, 506, 507, 508, 510, 511, 512, 513, 514, 515, 516,\n",
              "        517, 518, 519, 520, 522, 523, 524, 525, 526, 529, 530, 532, 533,\n",
              "        534, 535, 540, 541, 544, 545, 547, 548, 549, 550, 553, 554, 556,\n",
              "        557, 558, 559, 560, 561, 563, 567, 568, 569, 570, 572, 574, 576,\n",
              "        579, 581, 582, 583, 584, 585, 586, 588, 590, 591, 592, 593, 595,\n",
              "        597, 598, 599, 600, 602, 603, 605, 608, 609, 610, 611, 613, 615,\n",
              "        619, 621, 622, 624, 626, 627, 630, 631, 632, 633, 635, 636, 639,\n",
              "        641, 642, 643, 644, 645, 646, 647, 649, 651, 653, 654, 655, 656,\n",
              "        657, 660, 661, 662, 663, 666, 667, 668, 670, 672, 673, 674, 676,\n",
              "        677, 679, 680, 681, 682, 684, 687, 688, 691, 692, 693, 695, 696,\n",
              "        697, 698, 699, 700, 701, 703, 704, 705, 707, 714, 715, 716, 718,\n",
              "        720, 721, 722, 726, 727, 728, 729, 730, 731, 733, 734, 735, 737,\n",
              "        739, 743, 744, 745, 746, 747, 750, 751, 752, 753, 754, 756, 757,\n",
              "        759, 760, 762, 763, 764, 765, 766, 767, 768, 769, 771, 773, 774,\n",
              "        776, 778, 781, 782, 786, 788, 791, 792, 795, 796, 797, 798, 800,\n",
              "        801, 804, 805, 806, 809, 812, 814, 817, 818, 819, 821, 823, 825,\n",
              "        826, 827, 828, 829, 830, 831, 832, 833, 834, 835, 836, 837, 838,\n",
              "        839, 841, 843, 847, 848, 850, 851, 854, 856, 857, 860, 863, 866,\n",
              "        867, 868, 870, 871, 877, 878, 879, 880, 881, 882, 883, 885, 887,\n",
              "        888, 894, 897, 898, 899, 901, 904, 906, 907, 908, 909, 911, 915,\n",
              "        918, 920, 922, 923, 924, 925, 926, 927, 930, 931, 932, 933, 935,\n",
              "        936, 937, 939, 940, 941, 943, 944, 945, 949, 951, 952, 953, 954,\n",
              "        955, 959, 960, 963, 964, 965, 966, 967, 968, 969, 971, 972, 974,\n",
              "        975, 976, 977, 978, 982, 983, 984, 985, 989, 991, 992, 993, 994,\n",
              "        996, 997, 998, 999]),)"
            ]
          },
          "metadata": {},
          "execution_count": 22
        }
      ]
    },
    {
      "cell_type": "markdown",
      "source": [
        "Inter Quartile Range"
      ],
      "metadata": {
        "id": "bwOpzGYVl1oC"
      }
    },
    {
      "cell_type": "code",
      "source": [
        "def cal_iqr(df , column):\n",
        "\n",
        "    global lower,upper\n",
        "    q25, q75 = np.quantile(df[column], 0.25), np.quantile(df[column], 0.75)\n",
        "    iqr = q75 - q25\n",
        "    cut_off = iqr * 1.5\n",
        "    lower, upper = q25 - cut_off, q75 + cut_off\n",
        "\n",
        "    print('The IQR is',iqr)\n",
        "    print('The lower bound value is', lower)\n",
        "    print('The upper bound value is', upper)\n",
        " \n",
        "    df1 = df[df[column] > upper]\n",
        "    df2 = df[df[column] < lower]\n",
        "    return print('Total number of outliers are', df1.shape[0]+ df2.shape[0])\n",
        "\n",
        "cal_iqr(data,'WT Score')"
      ],
      "metadata": {
        "colab": {
          "base_uri": "https://localhost:8080/"
        },
        "id": "dRPE6rF1gI4P",
        "outputId": "fbe8b92b-4734-4a37-8eea-073c38a7782a"
      },
      "execution_count": null,
      "outputs": [
        {
          "output_type": "stream",
          "name": "stdout",
          "text": [
            "The IQR is 20.0\n",
            "The lower bound value is 27.0\n",
            "The upper bound value is 107.0\n",
            "Total number of outliers are 8\n"
          ]
        }
      ]
    },
    {
      "cell_type": "code",
      "source": [
        "df1 = data.rename(columns={'WT Score': 'WT', 'AI Score': 'AI', 'DSBDA Score': 'DSBDA'})\n",
        "plt.figure(figsize = (10,6))\n",
        "sns.distplot(df1.WT, kde=False)\n",
        "plt.axvspan(xmin = lower,xmax= df1.WT.min(),alpha=0.2, color='red')\n",
        "plt.axvspan(xmin = upper,xmax= df1.WT.max(),alpha=0.2, color='red')"
      ],
      "metadata": {
        "colab": {
          "base_uri": "https://localhost:8080/",
          "height": 462
        },
        "id": "lDGZaBiyhYLJ",
        "outputId": "892382f6-c071-4987-869e-42c42cddb396"
      },
      "execution_count": null,
      "outputs": [
        {
          "output_type": "stream",
          "name": "stderr",
          "text": [
            "/usr/local/lib/python3.8/dist-packages/seaborn/distributions.py:2619: FutureWarning: `distplot` is a deprecated function and will be removed in a future version. Please adapt your code to use either `displot` (a figure-level function with similar flexibility) or `histplot` (an axes-level function for histograms).\n",
            "  warnings.warn(msg, FutureWarning)\n"
          ]
        },
        {
          "output_type": "execute_result",
          "data": {
            "text/plain": [
              "<matplotlib.patches.Polygon at 0x7f7c4d573850>"
            ]
          },
          "metadata": {},
          "execution_count": 24
        },
        {
          "output_type": "display_data",
          "data": {
            "text/plain": [
              "<Figure size 720x432 with 1 Axes>"
            ],
            "image/png": "[encoded data removed]"
          },
          "metadata": {
            "needs_background": "light"
          }
        }
      ]
    },
    {
      "cell_type": "code",
      "source": [
        "cal_iqr(data,'AI Score')"
      ],
      "metadata": {
        "colab": {
          "base_uri": "https://localhost:8080/"
        },
        "id": "iTOg4ezCiTpP",
        "outputId": "7107c198-ddb1-48ab-e742-0542975b928e"
      },
      "execution_count": null,
      "outputs": [
        {
          "output_type": "stream",
          "name": "stdout",
          "text": [
            "The IQR is 21.25\n",
            "The lower bound value is 25.875\n",
            "The upper bound value is 110.875\n",
            "Total number of outliers are 5\n"
          ]
        }
      ]
    },
    {
      "cell_type": "code",
      "source": [
        "plt.figure(figsize = (10,6))\n",
        "sns.distplot(df1.AI, kde=False)\n",
        "plt.axvspan(xmin = lower,xmax= df1.AI.min(),alpha=0.2, color='red')\n",
        "plt.axvspan(xmin = upper,xmax= df1.AI.max(),alpha=0.2, color='red')"
      ],
      "metadata": {
        "colab": {
          "base_uri": "https://localhost:8080/",
          "height": 406
        },
        "id": "--BGvJ0-hYGs",
        "outputId": "5f0d65a9-be7d-4d24-ff80-8b6135f79a30"
      },
      "execution_count": null,
      "outputs": [
        {
          "output_type": "execute_result",
          "data": {
            "text/plain": [
              "<matplotlib.patches.Polygon at 0x7f7c4d595e20>"
            ]
          },
          "metadata": {},
          "execution_count": 26
        },
        {
          "output_type": "display_data",
          "data": {
            "text/plain": [
              "<Figure size 720x432 with 1 Axes>"
            ],
            "image/png": "[encoded data removed]"
          },
          "metadata": {
            "needs_background": "light"
          }
        }
      ]
    },
    {
      "cell_type": "code",
      "source": [
        "cal_iqr(data,'DSBDA Score')"
      ],
      "metadata": {
        "colab": {
          "base_uri": "https://localhost:8080/"
        },
        "id": "0G4WrtxEhYDk",
        "outputId": "7c51fbc5-cad7-4c3c-fa17-21a884dada1f"
      },
      "execution_count": null,
      "outputs": [
        {
          "output_type": "stream",
          "name": "stdout",
          "text": [
            "The IQR is 20.0\n",
            "The lower bound value is 29.0\n",
            "The upper bound value is 109.0\n",
            "Total number of outliers are 6\n"
          ]
        }
      ]
    },
    {
      "cell_type": "code",
      "source": [
        "plt.figure(figsize = (10,6))\n",
        "sns.distplot(df1.DSBDA, kde=False)\n",
        "plt.axvspan(xmin = lower,xmax= df1.DSBDA.min(),alpha=0.2, color='red')\n",
        "plt.axvspan(xmin = upper,xmax= df1.DSBDA.max(),alpha=0.2, color='red')"
      ],
      "metadata": {
        "colab": {
          "base_uri": "https://localhost:8080/",
          "height": 406
        },
        "id": "hHL-sdbDiWHl",
        "outputId": "22f2faab-72e7-4728-e1d6-df375ceaf774"
      },
      "execution_count": null,
      "outputs": [
        {
          "output_type": "execute_result",
          "data": {
            "text/plain": [
              "<matplotlib.patches.Polygon at 0x7f7c4d92faf0>"
            ]
          },
          "metadata": {},
          "execution_count": 28
        },
        {
          "output_type": "display_data",
          "data": {
            "text/plain": [
              "<Figure size 720x432 with 1 Axes>"
            ],
            "image/png": "[encoded data removed]"
          },
          "metadata": {
            "needs_background": "light"
          }
        }
      ]
    },
    {
      "cell_type": "markdown",
      "source": [
        "Removing Outliers in WT Score"
      ],
      "metadata": {
        "id": "QO7deU8NdoAQ"
      }
    },
    {
      "cell_type": "code",
      "source": [
        "median=np.median(data['WT Score'])\n",
        "median"
      ],
      "metadata": {
        "colab": {
          "base_uri": "https://localhost:8080/"
        },
        "id": "TpdPW8l71UmT",
        "outputId": "c8f6a411-2525-4e99-e026-d720bc088b23"
      },
      "execution_count": null,
      "outputs": [
        {
          "output_type": "execute_result",
          "data": {
            "text/plain": [
              "66.0"
            ]
          },
          "metadata": {},
          "execution_count": 29
        }
      ]
    },
    {
      "cell_type": "code",
      "source": [
        "new_data=data\n",
        "new_data['WT Score'] = np.where(new_data['WT Score'] >upper, median,new_data['WT Score'])\n",
        "new_data['WT Score'] = np.where(new_data['WT Score'] <lower, median,new_data['WT Score'])"
      ],
      "metadata": {
        "id": "tNULjVis1RH8"
      },
      "execution_count": null,
      "outputs": []
    },
    {
      "cell_type": "code",
      "source": [
        "new_data"
      ],
      "metadata": {
        "colab": {
          "base_uri": "https://localhost:8080/",
          "height": 424
        },
        "id": "bWfBIBKY2ZN5",
        "outputId": "66d3e932-66bb-41b3-855d-b193641b8de7"
      },
      "execution_count": null,
      "outputs": [
        {
          "output_type": "execute_result",
          "data": {
            "text/plain": [
              "     Gender   Groups     Education Level Fee Structure  \\\n",
              "0    Female  Group B   Bachelor's Degree      Standard   \n",
              "1    Female  Group C        Some College      Standard   \n",
              "2    Female  Group B     Master's Degree      Standard   \n",
              "3      Male  Group A  Associate's Degree  Free/Reduced   \n",
              "4      Male  Group C        Some College      Standard   \n",
              "..      ...      ...                 ...           ...   \n",
              "995  Female  Group E     Master's Degree      Standard   \n",
              "996    Male  Group C         High School  Free/Reduced   \n",
              "997  Female  Group C         High School  Free/Reduced   \n",
              "998  Female  Group D        Some College      Standard   \n",
              "999  Female  Group D        Some College  Free/Reduced   \n",
              "\n",
              "    Test Preparation Course  WT Score  DSBDA Score  AI Score  \n",
              "0                      None      72.0         72.0        74  \n",
              "1                 Completed      69.0         90.0        88  \n",
              "2                      None      90.0         95.0        93  \n",
              "3                      None      47.0         57.0        44  \n",
              "4                      None      76.0         78.0        75  \n",
              "..                      ...       ...          ...       ...  \n",
              "995               Completed      88.0         99.0        95  \n",
              "996                    None      62.0         55.0        55  \n",
              "997               Completed      59.0         71.0        65  \n",
              "998               Completed      68.0         78.0        77  \n",
              "999                    None      77.0         86.0        86  \n",
              "\n",
              "[1000 rows x 8 columns]"
            ],
            "text/html": [
              "\n",
              "  <div id=\"df-50365899-0b61-4183-bc17-589ce866680d\">\n",
              "    <div class=\"colab-df-container\">\n",
              "      <div>\n",
              "<style scoped>\n",
              "    .dataframe tbody tr th:only-of-type {\n",
              "        vertical-align: middle;\n",
              "    }\n",
              "\n",
              "    .dataframe tbody tr th {\n",
              "        vertical-align: top;\n",
              "    }\n",
              "\n",
              "    .dataframe thead th {\n",
              "        text-align: right;\n",
              "    }\n",
              "</style>\n",
              "<table border=\"1\" class=\"dataframe\">\n",
              "  <thead>\n",
              "    <tr style=\"text-align: right;\">\n",
              "      <th></th>\n",
              "      <th>Gender</th>\n",
              "      <th>Groups</th>\n",
              "      <th>Education Level</th>\n",
              "      <th>Fee Structure</th>\n",
              "      <th>Test Preparation Course</th>\n",
              "      <th>WT Score</th>\n",
              "      <th>DSBDA Score</th>\n",
              "      <th>AI Score</th>\n",
              "    </tr>\n",
              "  </thead>\n",
              "  <tbody>\n",
              "    <tr>\n",
              "      <th>0</th>\n",
              "      <td>Female</td>\n",
              "      <td>Group B</td>\n",
              "      <td>Bachelor's Degree</td>\n",
              "      <td>Standard</td>\n",
              "      <td>None</td>\n",
              "      <td>72.0</td>\n",
              "      <td>72.0</td>\n",
              "      <td>74</td>\n",
              "    </tr>\n",
              "    <tr>\n",
              "      <th>1</th>\n",
              "      <td>Female</td>\n",
              "      <td>Group C</td>\n",
              "      <td>Some College</td>\n",
              "      <td>Standard</td>\n",
              "      <td>Completed</td>\n",
              "      <td>69.0</td>\n",
              "      <td>90.0</td>\n",
              "      <td>88</td>\n",
              "    </tr>\n",
              "    <tr>\n",
              "      <th>2</th>\n",
              "      <td>Female</td>\n",
              "      <td>Group B</td>\n",
              "      <td>Master's Degree</td>\n",
              "      <td>Standard</td>\n",
              "      <td>None</td>\n",
              "      <td>90.0</td>\n",
              "      <td>95.0</td>\n",
              "      <td>93</td>\n",
              "    </tr>\n",
              "    <tr>\n",
              "      <th>3</th>\n",
              "      <td>Male</td>\n",
              "      <td>Group A</td>\n",
              "      <td>Associate's Degree</td>\n",
              "      <td>Free/Reduced</td>\n",
              "      <td>None</td>\n",
              "      <td>47.0</td>\n",
              "      <td>57.0</td>\n",
              "      <td>44</td>\n",
              "    </tr>\n",
              "    <tr>\n",
              "      <th>4</th>\n",
              "      <td>Male</td>\n",
              "      <td>Group C</td>\n",
              "      <td>Some College</td>\n",
              "      <td>Standard</td>\n",
              "      <td>None</td>\n",
              "      <td>76.0</td>\n",
              "      <td>78.0</td>\n",
              "      <td>75</td>\n",
              "    </tr>\n",
              "    <tr>\n",
              "      <th>...</th>\n",
              "      <td>...</td>\n",
              "      <td>...</td>\n",
              "      <td>...</td>\n",
              "      <td>...</td>\n",
              "      <td>...</td>\n",
              "      <td>...</td>\n",
              "      <td>...</td>\n",
              "      <td>...</td>\n",
              "    </tr>\n",
              "    <tr>\n",
              "      <th>995</th>\n",
              "      <td>Female</td>\n",
              "      <td>Group E</td>\n",
              "      <td>Master's Degree</td>\n",
              "      <td>Standard</td>\n",
              "      <td>Completed</td>\n",
              "      <td>88.0</td>\n",
              "      <td>99.0</td>\n",
              "      <td>95</td>\n",
              "    </tr>\n",
              "    <tr>\n",
              "      <th>996</th>\n",
              "      <td>Male</td>\n",
              "      <td>Group C</td>\n",
              "      <td>High School</td>\n",
              "      <td>Free/Reduced</td>\n",
              "      <td>None</td>\n",
              "      <td>62.0</td>\n",
              "      <td>55.0</td>\n",
              "      <td>55</td>\n",
              "    </tr>\n",
              "    <tr>\n",
              "      <th>997</th>\n",
              "      <td>Female</td>\n",
              "      <td>Group C</td>\n",
              "      <td>High School</td>\n",
              "      <td>Free/Reduced</td>\n",
              "      <td>Completed</td>\n",
              "      <td>59.0</td>\n",
              "      <td>71.0</td>\n",
              "      <td>65</td>\n",
              "    </tr>\n",
              "    <tr>\n",
              "      <th>998</th>\n",
              "      <td>Female</td>\n",
              "      <td>Group D</td>\n",
              "      <td>Some College</td>\n",
              "      <td>Standard</td>\n",
              "      <td>Completed</td>\n",
              "      <td>68.0</td>\n",
              "      <td>78.0</td>\n",
              "      <td>77</td>\n",
              "    </tr>\n",
              "    <tr>\n",
              "      <th>999</th>\n",
              "      <td>Female</td>\n",
              "      <td>Group D</td>\n",
              "      <td>Some College</td>\n",
              "      <td>Free/Reduced</td>\n",
              "      <td>None</td>\n",
              "      <td>77.0</td>\n",
              "      <td>86.0</td>\n",
              "      <td>86</td>\n",
              "    </tr>\n",
              "  </tbody>\n",
              "</table>\n",
              "<p>1000 rows × 8 columns</p>\n",
              "</div>\n",
              "      <button class=\"colab-df-convert\" onclick=\"convertToInteractive('df-50365899-0b61-4183-bc17-589ce866680d')\"\n",
              "              title=\"Convert this dataframe to an interactive table.\"\n",
              "              style=\"display:none;\">\n",
              "        \n",
              "  <svg xmlns=\"http://www.w3.org/2000/svg\" height=\"24px\"viewBox=\"0 0 24 24\"\n",
              "       width=\"24px\">\n",
              "    <path d=\"M0 0h24v24H0V0z\" fill=\"none\"/>\n",
              "    <path d=\"M18.56 5.44l.94 2.06.94-2.06 2.06-.94-2.06-.94-.94-2.06-.94 2.06-2.06.94zm-11 1L8.5 8.5l.94-2.06 2.06-.94-2.06-.94L8.5 2.5l-.94 2.06-2.06.94zm10 10l.94 2.06.94-2.06 2.06-.94-2.06-.94-.94-2.06-.94 2.06-2.06.94z\"/><path d=\"M17.41 7.96l-1.37-1.37c-.4-.4-.92-.59-1.43-.59-.52 0-1.04.2-1.43.59L10.3 9.45l-7.72 7.72c-.78.78-.78 2.05 0 2.83L4 21.41c.39.39.9.59 1.41.59.51 0 1.02-.2 1.41-.59l7.78-7.78 2.81-2.81c.8-.78.8-2.07 0-2.86zM5.41 20L4 18.59l7.72-7.72 1.47 1.35L5.41 20z\"/>\n",
              "  </svg>\n",
              "      </button>\n",
              "      \n",
              "  <style>\n",
              "    .colab-df-container {\n",
              "      display:flex;\n",
              "      flex-wrap:wrap;\n",
              "      gap: 12px;\n",
              "    }\n",
              "\n",
              "    .colab-df-convert {\n",
              "      background-color: #E8F0FE;\n",
              "      border: none;\n",
              "      border-radius: 50%;\n",
              "      cursor: pointer;\n",
              "      display: none;\n",
              "      fill: #1967D2;\n",
              "      height: 32px;\n",
              "      padding: 0 0 0 0;\n",
              "      width: 32px;\n",
              "    }\n",
              "\n",
              "    .colab-df-convert:hover {\n",
              "      background-color: #E2EBFA;\n",
              "      box-shadow: 0px 1px 2px rgba(60, 64, 67, 0.3), 0px 1px 3px 1px rgba(60, 64, 67, 0.15);\n",
              "      fill: #174EA6;\n",
              "    }\n",
              "\n",
              "    [theme=dark] .colab-df-convert {\n",
              "      background-color: #3B4455;\n",
              "      fill: #D2E3FC;\n",
              "    }\n",
              "\n",
              "    [theme=dark] .colab-df-convert:hover {\n",
              "      background-color: #434B5C;\n",
              "      box-shadow: 0px 1px 3px 1px rgba(0, 0, 0, 0.15);\n",
              "      filter: drop-shadow(0px 1px 2px rgba(0, 0, 0, 0.3));\n",
              "      fill: #FFFFFF;\n",
              "    }\n",
              "  </style>\n",
              "\n",
              "      <script>\n",
              "        const buttonEl =\n",
              "          document.querySelector('#df-50365899-0b61-4183-bc17-589ce866680d button.colab-df-convert');\n",
              "        buttonEl.style.display =\n",
              "          google.colab.kernel.accessAllowed ? 'block' : 'none';\n",
              "\n",
              "        async function convertToInteractive(key) {\n",
              "          const element = document.querySelector('#df-50365899-0b61-4183-bc17-589ce866680d');\n",
              "          const dataTable =\n",
              "            await google.colab.kernel.invokeFunction('convertToInteractive',\n",
              "                                                     [key], {});\n",
              "          if (!dataTable) return;\n",
              "\n",
              "          const docLinkHtml = 'Like what you see? Visit the ' +\n",
              "            '<a target=\"_blank\" href=https://colab.research.google.com/notebooks/data_table.ipynb>data table notebook</a>'\n",
              "            + ' to learn more about interactive tables.';\n",
              "          element.innerHTML = '';\n",
              "          dataTable['output_type'] = 'display_data';\n",
              "          await google.colab.output.renderOutput(dataTable, element);\n",
              "          const docLink = document.createElement('div');\n",
              "          docLink.innerHTML = docLinkHtml;\n",
              "          element.appendChild(docLink);\n",
              "        }\n",
              "      </script>\n",
              "    </div>\n",
              "  </div>\n",
              "  "
            ]
          },
          "metadata": {},
          "execution_count": 34
        }
      ]
    },
    {
      "cell_type": "code",
      "source": [
        "df1 = new_data.rename(columns={'WT Score': 'WT', 'AI Score': 'AI', 'DSBDA Score': 'DSBDA'})"
      ],
      "metadata": {
        "id": "bwgBdzvw21IU"
      },
      "execution_count": null,
      "outputs": []
    },
    {
      "cell_type": "code",
      "source": [
        "plt.figure(figsize = (10,6))\n",
        "sns.distplot(df1.WT, kde=False)\n",
        "plt.axvspan(xmin = lower,xmax= df1.WT.min(),alpha=0.2, color='red')\n",
        "plt.axvspan(xmin = upper,xmax= df1.WT.max(),alpha=0.2, color='red')"
      ],
      "metadata": {
        "colab": {
          "base_uri": "https://localhost:8080/",
          "height": 462
        },
        "id": "YYwHR6RcnB1l",
        "outputId": "edcb8313-10b1-495f-fe35-19c8a97f6528"
      },
      "execution_count": null,
      "outputs": [
        {
          "output_type": "stream",
          "name": "stderr",
          "text": [
            "/usr/local/lib/python3.8/dist-packages/seaborn/distributions.py:2619: FutureWarning: `distplot` is a deprecated function and will be removed in a future version. Please adapt your code to use either `displot` (a figure-level function with similar flexibility) or `histplot` (an axes-level function for histograms).\n",
            "  warnings.warn(msg, FutureWarning)\n"
          ]
        },
        {
          "output_type": "execute_result",
          "data": {
            "text/plain": [
              "<matplotlib.patches.Polygon at 0x7f7c4c8e51c0>"
            ]
          },
          "metadata": {},
          "execution_count": 36
        },
        {
          "output_type": "display_data",
          "data": {
            "text/plain": [
              "<Figure size 720x432 with 1 Axes>"
            ],
            "image/png": "[encoded data removed]"
          },
          "metadata": {
            "needs_background": "light"
          }
        }
      ]
    },
    {
      "cell_type": "code",
      "source": [
        "df1.boxplot('WT')"
      ],
      "metadata": {
        "colab": {
          "base_uri": "https://localhost:8080/",
          "height": 283
        },
        "id": "b4mM8XU13H7-",
        "outputId": "c4588ca5-7d09-455a-e399-a0a919fbd705"
      },
      "execution_count": null,
      "outputs": [
        {
          "output_type": "execute_result",
          "data": {
            "text/plain": [
              "<AxesSubplot:>"
            ]
          },
          "metadata": {},
          "execution_count": 37
        },
        {
          "output_type": "display_data",
          "data": {
            "text/plain": [
              "<Figure size 432x288 with 1 Axes>"
            ],
            "image/png": "[encoded data removed]"
          },
          "metadata": {
            "needs_background": "light"
          }
        }
      ]
    }
  ]
}